{
 "cells": [
  {
   "cell_type": "code",
   "execution_count": null,
   "id": "2ff2ee14-a880-46de-88b5-f75dae694d1d",
   "metadata": {},
   "outputs": [
    {
     "name": "stdin",
     "output_type": "stream",
     "text": [
      "Enter the number of sub-events:  4\n"
     ]
    },
    {
     "name": "stdout",
     "output_type": "stream",
     "text": [
      "Make sure the input probabilities as a decimal\n"
     ]
    },
    {
     "name": "stdin",
     "output_type": "stream",
     "text": [
      "Enter the probability of sub-event 1:  0.25\n",
      "Enter the probability of sub-event 2:  0.25\n",
      "Enter the probability of sub-event 3:  0.25\n"
     ]
    }
   ],
   "source": [
    "def probability_of_at_least_one_event(probabilities): # function that takes a list of probabilities as its input\n",
    "\n",
    "  prob_none = 1 # initialize variable prob_none to be 100% or that all events don't occur\n",
    "  for p in probabilities: # loop through the user input probabilities list\n",
    "    prob_none *= (1 - p) # take each subsequent probability of the event not occuring and multiply together\n",
    "  return 1 - prob_none # return the probability one event will occur as 1 - product_no_events_occured\n",
    "\n",
    "num_events = int(input('Enter the number of sub-events: ')) # user input the number of sub-events\n",
    "probabilities = [] # create an empty list to append values to\n",
    "print('Make sure the input probabilities as a decimal')\n",
    "\n",
    "for i in range(num_events): # loop through the number of sub_events\n",
    "  prob = float(input(f'Enter the probability of sub-event {i + 1}: ')) # user input for each probability as a decimal\n",
    "  probabilities.append(prob)\n",
    "\n",
    "overall_probability = probability_of_at_least_one_event(probabilities)\n",
    "\n",
    "print('Overall probability of at least one event:', overall_probability)"
   ]
  },
  {
   "cell_type": "code",
   "execution_count": null,
   "id": "fd38b775-9d27-49ef-b693-9f05543f125e",
   "metadata": {},
   "outputs": [],
   "source": []
  }
 ],
 "metadata": {
  "kernelspec": {
   "display_name": "Python 3 (ipykernel)",
   "language": "python",
   "name": "python3"
  },
  "language_info": {
   "codemirror_mode": {
    "name": "ipython",
    "version": 3
   },
   "file_extension": ".py",
   "mimetype": "text/x-python",
   "name": "python",
   "nbconvert_exporter": "python",
   "pygments_lexer": "ipython3",
   "version": "3.11.6"
  }
 },
 "nbformat": 4,
 "nbformat_minor": 5
}
